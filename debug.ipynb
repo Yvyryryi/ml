{
 "cells": [
  {
   "cell_type": "code",
   "execution_count": 4,
   "metadata": {},
   "outputs": [],
   "source": [
    "import data\n",
    "from lightning.pytorch import LightningDataModule\n",
    "from torch.utils.data import Dataset, DataLoader\n",
    "from typing import Dict, List, Generator, Tuple\n",
    "from torch.utils.data import Dataset\n",
    "from torch import Tensor\n",
    "import pandas as pd\n",
    "import torch\n",
    "import os"
   ]
  },
  {
   "cell_type": "code",
   "execution_count": 5,
   "metadata": {},
   "outputs": [],
   "source": [
    "metadata: Dict[str, Dict[str,str]] = dict(\n",
    "    lunar = dict(\n",
    "        catalog = '../data/lunar/training/catalogs/apollo12_catalog_GradeA_final.csv',\n",
    "        train_path = '../data/mars/training/data',\n",
    "        test_path = '../data/mars/test/data',\n",
    "    ),\n",
    "    mars = dict(\n",
    "        catalog = '../data/mars/training/catalogs/Mars_InSight_training_catalog_final.csv',\n",
    "        train_path = '../data/lunar/training/data/S12_GradeA',\n",
    "        test_path = '../data/lunar/test/data'\n",
    "    )\n",
    ")\n",
    "\n",
    "def recursive_search(parent: str) -> Generator[str, None, None]:\n",
    "    for child in os.listdir(parent):\n",
    "        child_path = os.path.join(parent, child)\n",
    "        if os.path.isdir(child_path):\n",
    "            yield from recursive_search(child_path)\n",
    "        elif child.endswith('.csv'):\n",
    "            yield child_path"
   ]
  },
  {
   "cell_type": "code",
   "execution_count": 6,
   "metadata": {},
   "outputs": [],
   "source": [
    "from datetime import timedelta\n",
    "from msilib import sequence\n",
    "from lightning.pytorch import LightningDataModule\n",
    "from torch.utils.data import Dataset, DataLoader\n",
    "from typing import Dict, List, Generator, Tuple\n",
    "from torch.utils.data import Dataset\n",
    "from torch import Tensor\n",
    "import pandas as pd\n",
    "import torch\n",
    "import os\n",
    "\n",
    "\n",
    "class TrainDataset(Dataset):\n",
    "    def __init__(self, sequence_length: int, resample: timedelta) -> None:\n",
    "        self.sequence_length = sequence_length\n",
    "        self.resample = pd.Timedelta(resample)\n",
    "        self.filepaths = [filename for filename in recursive_search('../data/mars/training/data')] + \\\n",
    "                        [filename for filename in recursive_search('../data/lunar/training/data')]\n",
    "        self.meta_lunar: pd.DataFrame = pd.read_csv(metadata['lunar']['catalog'], index_col = ['filename'])\n",
    "        self.meta_mars: pd.DataFrame = pd.read_csv(metadata['mars']['catalog'], index_col = ['filename'])\n",
    "        self.metadata: pd.DataFrame = pd.concat(\n",
    "            [\n",
    "                self.meta_lunar,\n",
    "                self.meta_mars,\n",
    "            ], axis = 0\n",
    "        )\n",
    "\n",
    "    def zero_padding(self, x: torch.Tensor, length: int = 60) -> torch.Tensor:\n",
    "        pad_size = length - x.size(-1)\n",
    "        if pad_size > 0:\n",
    "            return torch.nn.functional.pad(x, (0, pad_size))\n",
    "        return x\n",
    "    \n",
    "    def preprocessing(self) -> None:\n",
    "        self.data: List[Tuple[Tensor, Tensor]] = []\n",
    "        for file in self.filepaths:\n",
    "            try:\n",
    "                arrive = self.metadata.loc[['time_rel(sec)'], file]\n",
    "                out: Tensor = self.get_data(file)\n",
    "                self.data.extend((input, target)) ### mirar\n",
    "            except IndexError:\n",
    "                continue\n",
    "\n",
    "    def __len__(self) -> int:\n",
    "        return len(self.metadata)\n",
    "\n",
    "    def get_data(self, file: str) -> List[Tuple[Tensor, Tensor]]: ## atencion\n",
    "        ## get target (tensor de 0 y 1s tal que el idx del arrival este coincidiendo con el arrival real)\n",
    "        print(round(timedelta(seconds=self.metadata[\"time_rel(sec)\"].loc[os.path.basename(file)])/self.resample))\n",
    "        ## creas el tensor\n",
    "        \n",
    "        df: pd.DataFrame = pd.read_csv(file, parse_dates =['time_abs(%Y-%m-%dT%H:%M:%S.%f)'] ,index_col = ['time_abs(%Y-%m-%dT%H:%M:%S.%f)'])\n",
    "        print(df.shape)\n",
    "        velocity: Tensor = torch.from_numpy(df[\"velocity(c/s)\"].resample(self.resample).mean().values)\n",
    "        print(velocity.shape)\n",
    "        print(self.resample)\n",
    "        target = torch.zeros((velocity.shape))\n",
    "        # target = \n",
    "        max: Tensor = torch.from_numpy(df.resample(self.resample).max().values)\n",
    "        min: Tensor = torch.from_numpy(df.resample(self.resample).min().values)\n",
    "        ### add the wavelet / fourier transform is needed\n",
    "\n",
    "        ### separar de a sequence_length\n",
    "        ### input(sequence_length, input_size) -> target(sequence_length) (0, 0, 1, 0)\n",
    "        return [self.zero_padding(i) for i in velocity.split(self.sequence_length)] #target)\n",
    "\n",
    "    def __getitem__(self, idx: int) -> Tuple[Tensor, Tensor]:\n",
    "        filename: str = self.metadata[idx]\n",
    "        return self.data[filename]"
   ]
  },
  {
   "cell_type": "code",
   "execution_count": 9,
   "metadata": {},
   "outputs": [
    {
     "name": "stdout",
     "output_type": "stream",
     "text": [
      "2130000\n",
      "(72000, 2)\n",
      "torch.Size([3599951])\n",
      "0 days 00:00:00.001000\n"
     ]
    },
    {
     "data": {
      "text/plain": [
       "60000"
      ]
     },
     "execution_count": 9,
     "metadata": {},
     "output_type": "execute_result"
    }
   ],
   "source": [
    "dataset = TrainDataset(60, timedelta(milliseconds=1))\n",
    "len(dataset.get_data(dataset.filepaths[0]))"
   ]
  },
  {
   "cell_type": "code",
   "execution_count": 8,
   "metadata": {},
   "outputs": [
    {
     "data": {
      "text/plain": [
       "Timedelta('10 days 00:00:30')"
      ]
     },
     "execution_count": 8,
     "metadata": {},
     "output_type": "execute_result"
    }
   ],
   "source": [
    "td = timedelta(10, 30)\n",
    "pd.Timedelta(td)"
   ]
  }
 ],
 "metadata": {
  "kernelspec": {
   "display_name": "Python 3",
   "language": "python",
   "name": "python3"
  },
  "language_info": {
   "codemirror_mode": {
    "name": "ipython",
    "version": 3
   },
   "file_extension": ".py",
   "mimetype": "text/x-python",
   "name": "python",
   "nbconvert_exporter": "python",
   "pygments_lexer": "ipython3",
   "version": "3.10.11"
  },
  "polyglot_notebook": {
   "kernelInfo": {
    "defaultKernelName": "csharp",
    "items": [
     {
      "aliases": [],
      "name": "csharp"
     }
    ]
   }
  }
 },
 "nbformat": 4,
 "nbformat_minor": 2
}
